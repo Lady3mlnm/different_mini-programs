{
 "cells": [
  {
   "cell_type": "code",
   "execution_count": 1,
   "id": "e95b3188-6a87-450e-84c0-12f662f2bfae",
   "metadata": {},
   "outputs": [],
   "source": [
    "import re"
   ]
  },
  {
   "cell_type": "code",
   "execution_count": 2,
   "id": "21a1d8e2-cb97-44dd-b8df-2d7ff6557510",
   "metadata": {},
   "outputs": [],
   "source": [
    "html_file = 'antonkulaga.vcf.longevity_combined.html'"
   ]
  },
  {
   "cell_type": "code",
   "execution_count": 3,
   "id": "ae6b7ec2-687e-438c-beb6-d45ca403919c",
   "metadata": {},
   "outputs": [],
   "source": [
    "# load code of original report\n",
    "with open(html_file, encoding='UTF-8') as fh:\n",
    "    st_all = fh.read()"
   ]
  },
  {
   "cell_type": "markdown",
   "id": "53a6c9c5-a729-493c-ab4f-a8bc6154e65c",
   "metadata": {},
   "source": [
    "<br />"
   ]
  },
  {
   "cell_type": "code",
   "execution_count": 4,
   "id": "b9f643cd-0567-4bbc-829e-c06c67eb8312",
   "metadata": {},
   "outputs": [],
   "source": [
    "# extract fragment of HTML-code with table \"Longevity significant variations\"\n",
    "table_1_begin = st_all.find('\t\t<tbody id=\"longTBody\">')\n",
    "table_2_begin = st_all.find('\t\t<tbody id=\"cancTBody\">')\n",
    "st_1 = st_all[table_1_begin:table_2_begin]"
   ]
  },
  {
   "cell_type": "code",
   "execution_count": 5,
   "id": "27bc5070-34f9-4748-9e19-183cdd41d696",
   "metadata": {},
   "outputs": [
    {
     "name": "stdout",
     "output_type": "stream",
     "text": [
      "Length of fragment before processing: 1058968\n",
      "end_of_preliminary_fragment: 25, start_of_closing_fragment: 1058501\n",
      "number of fragments in original: 725, number of fragments after processing: 186\n",
      "Length of fragment after processing : 274824\n"
     ]
    }
   ],
   "source": [
    "# cleaning of the table \"Longevity significant variations\" from duplicates\n",
    "def process_table_1(st: str):\n",
    "    fragments = []                    # collection of unique fragments\n",
    "    end_of_preliminary_fragment = -1  # position of end of fragment of HTML code before fragments with records\n",
    "    start_of_closing_fragment = -1    # position of start of fragment of HTML code after fragments with records\n",
    "    position_begin = 0                # position of start of current fragment\n",
    "    position_end = 0                  # position of end of current fragment\n",
    "\n",
    "    i = 0\n",
    "    while position_begin != -1:\n",
    "        position_begin = st.find('\t\t\t<tr class=\"clickable\" onclick=\"doOnClick(this)\">', position_end)  # find position of start of current fragment\n",
    "        \n",
    "        i += 1\n",
    "        \n",
    "        if end_of_preliminary_fragment == -1:\n",
    "            end_of_preliminary_fragment = position_begin\n",
    "            \n",
    "        if position_begin == -1:\n",
    "            start_of_closing_fragment = position_end\n",
    "            break\n",
    "        \n",
    "        position_end = st.find('\t\t\t</td></tr>', position_begin) + 13   # find position of end of current fragment\n",
    "        \n",
    "        found_fragment = st[position_begin:position_end] # extract fragment\n",
    "        if found_fragment not in fragments:    # if fragment is absent in collection, add it to collection\n",
    "            fragments.append(found_fragment)\n",
    "\n",
    "    print(f\"end_of_preliminary_fragment: {end_of_preliminary_fragment}, start_of_closing_fragment: {start_of_closing_fragment}\")\n",
    "    print(f\"number of fragments in original: {i}, number of fragments after processing: {len(fragments)}\")\n",
    "    st = st[:end_of_preliminary_fragment] + '\\n'.join(fragments) + st[start_of_closing_fragment:]  # assemble new table from fragments\n",
    "    return st        \n",
    "\n",
    "\n",
    "print(f\"Length of fragment before processing: {len(st_1)}\")\n",
    "st_1 = process_table_1(st_1)\n",
    "print(f\"Length of fragment after processing : {len(st_1)}\")\n",
    "# print(st_1[:1000])"
   ]
  },
  {
   "cell_type": "markdown",
   "id": "8f0f063c-9617-4ec4-877c-16100ae6e30e",
   "metadata": {},
   "source": [
    "<br />"
   ]
  },
  {
   "cell_type": "code",
   "execution_count": 6,
   "id": "d312e510-5dad-40a2-848f-f67e21118284",
   "metadata": {},
   "outputs": [],
   "source": [
    "# extract fragment of HTML-code with table \"Cancer Report\"\n",
    "st_2 = st_all[table_2_begin:]"
   ]
  },
  {
   "cell_type": "code",
   "execution_count": 7,
   "id": "a3ab0dcf-961b-453d-a51b-f8e1b64d933d",
   "metadata": {},
   "outputs": [
    {
     "name": "stdout",
     "output_type": "stream",
     "text": [
      "Length of fragment before processing: 138511\n",
      "end_of_preliminary_fragment: 25, start_of_closing_fragment: 138463\n",
      "number of fragments in original: 117, number of fragments after processing: 37\n",
      "Length of fragment after processing : 43732\n"
     ]
    }
   ],
   "source": [
    "# cleaning of the table \"Cancer Report\" from duplicates\n",
    "def process_table_2(st: str):\n",
    "    fragments = []                    # collection of unique fragments\n",
    "    end_of_preliminary_fragment = -1  # position of end of fragment of HTML code before fragments with records\n",
    "    start_of_closing_fragment = -1    # position of start of fragment of HTML code after fragments with records\n",
    "    position_begin = 0                # position of start of current fragment\n",
    "    position_end = 0                  # position of end of current fragment\n",
    "\n",
    "    i = 0\n",
    "    while position_begin != -1:\n",
    "        # find position of start of current fragment\n",
    "        position_begin_obj = re.search('\t\t\t<tr class=\"clickable\" onclick=\"doOnClick\\(this\\)\"><td>\\+</td><td>\\d+</td><td>', st_2[position_end:])\n",
    "        if position_begin_obj:\n",
    "            position_begin = position_begin_obj.span()[0] + position_end\n",
    "        else:\n",
    "            start_of_closing_fragment = position_end\n",
    "            break\n",
    "\n",
    "        i += 1\n",
    "\n",
    "        if end_of_preliminary_fragment == -1:\n",
    "            end_of_preliminary_fragment = position_begin            \n",
    "        \n",
    "        position_end = st.find(']</td></tr>\\n', position_begin) + 12    # find position of end of current fragment\n",
    "        \n",
    "        found_fragment = st[st.find('</td><td>chr', position_begin):position_end]  # extract fragment, reducint it, - so that it did not contain number of record\n",
    "\n",
    "        if found_fragment not in fragments:    # if fragment is absent in collection, add it to collection\n",
    "            fragments.append(found_fragment)\n",
    "\n",
    "    print(f\"end_of_preliminary_fragment: {end_of_preliminary_fragment}, start_of_closing_fragment: {start_of_closing_fragment}\")\n",
    "    print(f\"number of fragments in original: {i}, number of fragments after processing: {len(fragments)}\")\n",
    "\n",
    "    for i in range(len(fragments)):   # restore fragments till full form but with new numbers of records\n",
    "        fragments[i] = '\t\t\t<tr class=\"clickable\" onclick=\"doOnClick(this)\"><td>+</td><td>' + str(i+1) + fragments[i]\n",
    "    \n",
    "    st = st[:end_of_preliminary_fragment] + '\\n'.join(fragments) + st[start_of_closing_fragment:]    # assemble new table from fragments\n",
    "    return st\n",
    "\n",
    "\n",
    "print(f\"Length of fragment before processing: {len(st_2)}\")\n",
    "st_2 = process_table_2(st_2)\n",
    "print(f\"Length of fragment after processing : {len(st_2)}\")"
   ]
  },
  {
   "cell_type": "code",
   "execution_count": 8,
   "id": "bb4f65e0-441a-4c69-b0bc-42d0bec9ba81",
   "metadata": {},
   "outputs": [],
   "source": [
    "# write cleaned report to new html-file\n",
    "with open(html_file[:-5] + ' (cleaned)' + html_file[-5:], 'w', encoding='UTF-8') as fh:\n",
    "    fh.write(st_all[:table_1_begin] + st_1 + st_2)"
   ]
  }
 ],
 "metadata": {
  "kernelspec": {
   "display_name": "Python 3 (ipykernel)",
   "language": "python",
   "name": "python3"
  },
  "language_info": {
   "codemirror_mode": {
    "name": "ipython",
    "version": 3
   },
   "file_extension": ".py",
   "mimetype": "text/x-python",
   "name": "python",
   "nbconvert_exporter": "python",
   "pygments_lexer": "ipython3",
   "version": "3.9.7"
  }
 },
 "nbformat": 4,
 "nbformat_minor": 5
}
